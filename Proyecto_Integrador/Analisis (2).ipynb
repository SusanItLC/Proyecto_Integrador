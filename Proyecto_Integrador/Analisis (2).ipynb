{
 "cells": [
  {
   "cell_type": "markdown",
   "metadata": {
    "jp-MarkdownHeadingCollapsed": true
   },
   "source": [
    "## Ask\n",
    "### Preguntas guía\n",
    "- ¿Cuáles temas estas explorando?\n",
    "- ¿Cual es el problema que tratas de resolver?\n",
    "- ¿Cuáles metricas usarás para medir los datos para alcanzar el objetivo?\n",
    "- ¿Quienes son los _stakeholders_?\n",
    "- ¿Quién es tu audiencia?\n",
    "- ¿Como tus conocimientos pueden ayudar al cliente a tomar una decisión?\n",
    "### Tareas Clave\n",
    "- Identificar la tarea empresarial \n",
    "- Determinar los _stakeholders_ clave\n",
    "- Seleccionar un _dataset_\n",
    "- Establecer metricas\n",
    "### Entregables\n",
    "- Un párrafo claro con la tarea empresarial que ha seleccionado investigar\n",
    "\n",
    "\n"
   ]
  },
  {
   "cell_type": "markdown",
   "metadata": {},
   "source": [
    "# ENTREGABLE \n",
    "Se esta analizando el rendimiento académico de los estudiantes, considerando factores como su historial de calificaciones, carrera, género, su preparatoria de origen, su municipio, etc., con el fin de identificar a estudiantes que podrían estar en riesgo de abandonó académico y antes de que ocurra, estos puedan recibir apoyo de forma oportuna. Los stakeholders clave y posibles interesados en este análisis son las autoridades escolares como tutores académicos, responsables de programas de apoyo estudiantil, directivos escolares, coordinadores de carrera y personal de orientación académica. \n",
    "\n",
    "Mis conocimientos en análisis de datos y modelos predictivos pueden ayudar a identificar a tiempo a estudiantes en riesgo, permitiendo a las autoridades escolares implementar estrategias de apoyo específicas que mejoren el desempeño académico general.\n",
    "\n",
    "La tarea empresarial consiste en desarrollar un modelo de clasificación que permita detectar estudiantes en riesgo de bajo rendimiento académico, utilizando como insumos su historial de calificaciones, la información de su preparatoria de origen y características personales. Esto permitirá a las autoridades educativas implementar estrategias de intervención temprana y personalizada, ayudando a mejorar el desempeño general de la institución.\n",
    "\n"
   ]
  },
  {
   "cell_type": "markdown",
   "metadata": {},
   "source": [
    "## Prepare\n",
    "### Preguntas guía \n",
    "- ¿Dónde se encuentran tus datos?\n",
    "- ¿Como están organizados?\n",
    "- ¿Hay algún problema de sesgo o credibilidad en tus datos ?\n",
    "- ¿Como manejas el tema de la licencia de uso, privacidad, seguridad y accesibilidad ? \n",
    "- ¿Como verificaste la integridad de los datos?\n",
    "- ¿Como te ayuda a responder tu pregunta ? \n",
    "- ¿Hay algún problema con los datos ?\n",
    "### Tareas clave \n",
    "- Descargar los datos y almacenarlos en forma apropiada\n",
    "- Identificar como están organizados\n",
    "- Ordenar y filtrar los datos \n",
    "- Determinar la credibilidad de los datos\n",
    "### Entregables\n",
    "- Una descripción de todas las fuentes de datos usadas\n",
    "\n"
   ]
  },
  {
   "cell_type": "markdown",
   "metadata": {},
   "source": [
    "# ENTREGABLE\n",
    "Los datos fueron proporcionados en archivos CSV (calificaciones.csv, estudiantes.csv, carrera.csv y escuelas.csv), los cuales se encuentran almacenados localmente y organizados dentro del proyecto. \n",
    "\n",
    "### calificaciones.csv: \n",
    "Contiene el periodo, la clave del alumno, clave de las materias cursadas, calificación (debe ser <70 para ser aprobatoría> y tipo de calificación (1= ordinario, 2=recuperación, 3=extraordinario, 4=calificación ordinaria del curso RC y 5=recuperación del curso RC)).\n",
    "\n",
    "### estudiantes.csv: \n",
    "Registra la matrícula de los estudiantes, la de la carrera a la que pertenece, sexo, clave de su preparatoría de origen, su dirección (colonia, municipio y ciudad), año en que ingreso a la carrera, periodo en que termino (siendo 1=enero-junio, 2=verano o 3=agosto-diciembre) y su causa de salida (1=vigente, 2=baja temporal, 3=baja por especial/reprobado, 4=baja definitiva o 5=egresado).\n",
    "\n",
    "### carrera.csv:\n",
    "Contiena la información general sobre las carrera, siendo la clave de estas, nombre completo y nombre corto.\n",
    "\n",
    "### escuelas.csv: \n",
    "Contiene información detallada sobre las escuelas de origen (bachillerato) de los estudiantes, siendo simplemente la clave de la preparatoria y su nombre."
   ]
  },
  {
   "cell_type": "markdown",
   "metadata": {},
   "source": [
    "## Process\n",
    "### Preguntas guía \n",
    "- ¿Que herramientas has escogido y por qué ? \n",
    "- ¿Te has asegurado de la integridad de tus datos?\n",
    "- Que pasos has tomado para asegurarte que tus datos están limpios?\n",
    "- ¿Como puedes verificar que tus datos están limpios y listos para analizar?\n",
    "- Has documentado tu proceso de limpieza de tal forma que puedes ser revisados y compartidos esos resultados ? \n",
    "### Tareas clave \n",
    "- Escoger tus herramientas \n",
    "- Transformar tus datos de tal forma que puedas trabajar con ellos en forma efectiva\n",
    "- Documentar el proceso de limpieza\n",
    "### Entregables\n",
    "- Documentación de cualquier tipo de limpieza y manipulación de datos\n",
    "\n",
    "\n"
   ]
  },
  {
   "cell_type": "markdown",
   "metadata": {},
   "source": [
    "# SE ENCUENTRA EN CUADERNO"
   ]
  },
  {
   "cell_type": "markdown",
   "metadata": {},
   "source": [
    "## Analyze\n",
    "\n",
    "### Preguntas guía \n",
    "- ¿Cómo debes organizar tus datos para llevar a cabo su análisis\n",
    "- ¿Están tus datos debidamentes formateados?\n",
    "- ¿Que sorpresas has encontrado en los datos?\n",
    "- ¿Cuáles tendencias o relaciones has encontrado en los datos?\n",
    "- ¿Como te ayudan estos descubrimientos a responder las preguntas empresariales?\n",
    "\n",
    "### Tareas clave \n",
    "- Agregar y resumir tus datos para que sean útiles y accesibles\n",
    "- Organizar y formatear tus datos\n",
    "- Realizar calculos\n",
    "- Documentar tus cálculos para darle seguimiento a tus pasos de análisis\n",
    "- Identificar tendencias y relaciones \n",
    "- Modelado\n",
    "\n",
    "### Entregables\n",
    "- Un resumen de tu análisis\n",
    "\n",
    "### Pasos a seguir\n",
    "- Importar los datos\n",
    "- Hacer las columnas consistentes y únalas en un solo dataframe\n",
    "- Limpie y resuma sus datos para analizar\n",
    "- Realice un analisis descriptivo\n",
    "- Exportar un archivo de resumen (csv) para análisis posterior\n",
    "- Modelado\n",
    "- Comparación y optimización de modelos\n",
    "- Validación y prueba\n"
   ]
  },
  {
   "cell_type": "markdown",
   "metadata": {},
   "source": [
    "# SE ENCUENTRA EN CUADERNO"
   ]
  },
  {
   "cell_type": "markdown",
   "metadata": {},
   "source": [
    "\n",
    "## Share\n",
    "### Preguntas guía \n",
    "- ¿Fuiste capaz de contestar la pregunta empresarial? \n",
    "- ¿Qué histpria cuentan tus datos? \n",
    "- ¿Cómo se relacionan tus descubrimientos con la pregunta original?\n",
    "- ¿Quién es tu audiencia?\n",
    "- ¿Cuál es la mejor forma de comunicarte con ellos?\n",
    "- ¿Puede ayudarte la visualización de datos a compartir tus descubrimientos?\n",
    "- ¿Es tu presentación accesible para tu audiencia?\n",
    "### Tareas clave \n",
    "- Determinar la mejor forma de compartir tus descubrimientos\n",
    "- Crear visualizaciones de datos efectivas \n",
    "- Presentar tus descubrimientos \n",
    "- Asegurar que su presentación sea accesible\n",
    "### Entregables\n",
    "- Descubrimientos clave y visualizaciones de soporte\n",
    "\n",
    "\n"
   ]
  },
  {
   "cell_type": "code",
   "execution_count": null,
   "metadata": {},
   "outputs": [],
   "source": []
  },
  {
   "cell_type": "markdown",
   "metadata": {},
   "source": [
    "## Act\n",
    "### Preguntas guía \n",
    "- ¿Cuál es tu conclusión final basada en tu análisis?\n",
    "- Como puede tu equipo y organización/empresa aplicar tus descubrimientos?\n",
    "- ¿Que pasos tomarán tu o los _stakeholders_ basado en tus descubrimientos? \n",
    "- ¿Hay datos adicionales que pudieras usar para expandir tus descubrimientos?\n",
    "### Tareas clave \n",
    "- Practica la presentación de tu caso de estudio a un amigo o familiar\n",
    "### Entregables\n",
    "- Tus descubrimientos mas importantes basado en tu análisis \n",
    "- Una lista adicional de entregables que creas será útil incluir para exploración posterior\n"
   ]
  },
  {
   "cell_type": "code",
   "execution_count": null,
   "metadata": {},
   "outputs": [],
   "source": []
  },
  {
   "cell_type": "markdown",
   "metadata": {},
   "source": []
  }
 ],
 "metadata": {
  "kernelspec": {
   "display_name": "Python 3",
   "language": "python",
   "name": "python3"
  },
  "language_info": {
   "codemirror_mode": {
    "name": "ipython",
    "version": 3
   },
   "file_extension": ".py",
   "mimetype": "text/x-python",
   "name": "python",
   "nbconvert_exporter": "python",
   "pygments_lexer": "ipython3",
   "version": "3.13.2"
  }
 },
 "nbformat": 4,
 "nbformat_minor": 4
}
